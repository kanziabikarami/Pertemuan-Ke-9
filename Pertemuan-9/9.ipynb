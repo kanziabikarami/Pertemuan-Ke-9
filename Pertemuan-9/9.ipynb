{
 "cells": [
  {
   "cell_type": "code",
   "execution_count": 8,
   "id": "bf34523e-cd1a-4f83-bedb-669bb5108bde",
   "metadata": {},
   "outputs": [],
   "source": [
    "import math\n",
    "import statistics as stats\n",
    "import numpy as np\n",
    "import scipy.stats\n",
    "import pandas as pd"
   ]
  },
  {
   "cell_type": "code",
   "execution_count": 9,
   "id": "cd98750e-ecf3-48f8-8e08-91a889e90ee1",
   "metadata": {},
   "outputs": [
    {
     "name": "stdout",
     "output_type": "stream",
     "text": [
      "[8.0, 1, 2.5, 4, 28.0]\n",
      "[8.0, 1, 2.5, nan, 4, 28.0]\n"
     ]
    }
   ],
   "source": [
    "x = [8.0, 1, 2.5, 4, 28.0]\n",
    "x_with_nan = [8.0, 1, 2.5, math.nan, 4, 28.0]\n",
    "print(x)\n",
    "print(x_with_nan)"
   ]
  },
  {
   "cell_type": "code",
   "execution_count": 10,
   "id": "7f1dcbe2-d500-46ab-b19a-38a1a6b6f72c",
   "metadata": {},
   "outputs": [
    {
     "name": "stdout",
     "output_type": "stream",
     "text": [
      "[ 8.   1.   2.5  4.  28. ]\n",
      "[ 8.   1.   2.5  nan  4.  28. ]\n",
      "0     8.0\n",
      "1     1.0\n",
      "2     2.5\n",
      "3     NaN\n",
      "4     4.0\n",
      "5    28.0\n",
      "dtype: float64\n"
     ]
    }
   ],
   "source": [
    "y, y_with_nan = np.array(x), np.array(x_with_nan)\n",
    "z, z_with_nan = pd.Series(x), pd.Series(x_with_nan)\n",
    "print(y)\n",
    "print(y_with_nan)\n",
    "print(z_with_nan)"
   ]
  },
  {
   "cell_type": "code",
   "execution_count": 11,
   "id": "68150476-e321-45fc-bfc5-59cd71b4baa3",
   "metadata": {},
   "outputs": [
    {
     "data": {
      "text/plain": [
       "8.7"
      ]
     },
     "execution_count": 11,
     "metadata": {},
     "output_type": "execute_result"
    }
   ],
   "source": [
    "a = sum(x)/len(x) #len adalah jumlah data nya ada berapa di contoh ini ada 5 data\n",
    "a"
   ]
  },
  {
   "cell_type": "code",
   "execution_count": 13,
   "id": "1bd85db4-d909-43d7-941f-45b6766fec4c",
   "metadata": {},
   "outputs": [
    {
     "data": {
      "text/plain": [
       "8.7"
      ]
     },
     "execution_count": 13,
     "metadata": {},
     "output_type": "execute_result"
    }
   ],
   "source": [
    "b = stats.mean(x)\n",
    "b"
   ]
  },
  {
   "cell_type": "code",
   "execution_count": 14,
   "id": "e06f16c0-1bdb-4cb4-a462-847fe5cf6ced",
   "metadata": {},
   "outputs": [
    {
     "data": {
      "text/plain": [
       "nan"
      ]
     },
     "execution_count": 14,
     "metadata": {},
     "output_type": "execute_result"
    }
   ],
   "source": [
    "c= stats.mean(x_with_nan)\n",
    "c"
   ]
  },
  {
   "cell_type": "code",
   "execution_count": 17,
   "id": "9923267d-ed42-4b37-b9c5-79cc7e6d51ce",
   "metadata": {},
   "outputs": [
    {
     "data": {
      "text/plain": [
       "nan"
      ]
     },
     "execution_count": 17,
     "metadata": {},
     "output_type": "execute_result"
    }
   ],
   "source": [
    "sum(x_with_nan)\n",
    "d"
   ]
  },
  {
   "cell_type": "code",
   "execution_count": 19,
   "id": "e1ebc7ec-27b3-410c-876e-057410dadf2b",
   "metadata": {},
   "outputs": [
    {
     "name": "stdout",
     "output_type": "stream",
     "text": [
      "8.7\n",
      "8.7\n"
     ]
    }
   ],
   "source": [
    "print(np.mean(y))\n",
    "print(y.mean())"
   ]
  },
  {
   "cell_type": "code",
   "execution_count": 22,
   "id": "d6bf61cb-cac0-476d-9bfb-ff76ea95c05e",
   "metadata": {},
   "outputs": [
    {
     "data": {
      "text/plain": [
       "8.7"
      ]
     },
     "execution_count": 22,
     "metadata": {},
     "output_type": "execute_result"
    }
   ],
   "source": [
    "np.nanmean(y_with_nan)"
   ]
  },
  {
   "cell_type": "code",
   "execution_count": 23,
   "id": "0b940532-894b-4b41-9a59-bc1aef24e454",
   "metadata": {},
   "outputs": [
    {
     "name": "stdout",
     "output_type": "stream",
     "text": [
      "8.7\n"
     ]
    }
   ],
   "source": [
    "print(np.nanmean(y_with_nan))"
   ]
  },
  {
   "cell_type": "code",
   "execution_count": 25,
   "id": "03a0f671-90e1-47b5-937c-aaf276709123",
   "metadata": {},
   "outputs": [
    {
     "name": "stdout",
     "output_type": "stream",
     "text": [
      "8.7\n"
     ]
    }
   ],
   "source": [
    "print(z.mean())"
   ]
  },
  {
   "cell_type": "code",
   "execution_count": 26,
   "id": "39cd4281-ce0e-483d-aee3-77dfbc347541",
   "metadata": {},
   "outputs": [
    {
     "name": "stdout",
     "output_type": "stream",
     "text": [
      "0     8.0\n",
      "1     1.0\n",
      "2     2.5\n",
      "3     NaN\n",
      "4     4.0\n",
      "5    28.0\n",
      "dtype: float64\n"
     ]
    }
   ],
   "source": [
    "print(z_with_nan)"
   ]
  },
  {
   "cell_type": "code",
   "execution_count": 27,
   "id": "c71d7725-2579-4033-ae01-20973934b7e0",
   "metadata": {},
   "outputs": [
    {
     "data": {
      "text/plain": [
       "4.8"
      ]
     },
     "execution_count": 27,
     "metadata": {},
     "output_type": "execute_result"
    }
   ],
   "source": [
    "0.2 * 2 + 0.5 * 4 + 0.3 * 8\n",
    "\n"
   ]
  },
  {
   "cell_type": "code",
   "execution_count": 28,
   "id": "4687cf70-78a5-4e44-9166-f79ef1587c1f",
   "metadata": {},
   "outputs": [
    {
     "data": {
      "text/plain": [
       "1.6"
      ]
     },
     "execution_count": 28,
     "metadata": {},
     "output_type": "execute_result"
    }
   ],
   "source": [
    "0.3 * 2 + 1"
   ]
  },
  {
   "cell_type": "code",
   "execution_count": 30,
   "id": "3ce16af3-eeb2-43d4-84eb-d853ccf66072",
   "metadata": {},
   "outputs": [
    {
     "name": "stdout",
     "output_type": "stream",
     "text": [
      "6.95\n",
      "6.95\n"
     ]
    }
   ],
   "source": [
    "x = [8.0, 1, 2.5, 4, 28.0]\n",
    "w = [0.1,0.2,0.3,0.25,0.15]\n",
    "\n",
    "wmean = sum(w[i] * x[i] for i in range(len(x))) / sum(w)\n",
    "print (wmean)\n",
    "\n",
    "wmean = sum(x_ * w_ for (x_, w_) in zip (x,w)) / sum(w)\n",
    "print (wmean)"
   ]
  },
  {
   "cell_type": "code",
   "execution_count": 31,
   "id": "d6bb80a1-60a9-409a-b89b-d6371829b7bf",
   "metadata": {},
   "outputs": [
    {
     "name": "stdout",
     "output_type": "stream",
     "text": [
      "6.95\n",
      "6.95\n"
     ]
    }
   ],
   "source": [
    "y, z, w = np.array(x), pd.Series(x), np.array(w)\n",
    "\n",
    "wmean = np.average(y, weights=w)\n",
    "print(wmean)\n",
    "\n",
    "wmean = np.average(z, weights=w)\n",
    "print(wmean)"
   ]
  },
  {
   "cell_type": "code",
   "execution_count": 32,
   "id": "e1a444c2-25e7-4fff-86e7-5538a06be1c5",
   "metadata": {},
   "outputs": [
    {
     "data": {
      "text/plain": [
       "6.95"
      ]
     },
     "execution_count": 32,
     "metadata": {},
     "output_type": "execute_result"
    }
   ],
   "source": [
    "(w * y).sum() / w.sum()"
   ]
  },
  {
   "cell_type": "code",
   "execution_count": 33,
   "id": "a9a8c60c-1c91-47a1-b6d7-f7cc74fe05f2",
   "metadata": {},
   "outputs": [
    {
     "data": {
      "text/plain": [
       "2.7613412228796843"
      ]
     },
     "execution_count": 33,
     "metadata": {},
     "output_type": "execute_result"
    }
   ],
   "source": [
    "hmean = len(x) / sum(1 / item for item in x)\n",
    "hmean"
   ]
  },
  {
   "cell_type": "code",
   "execution_count": 34,
   "id": "a971be74-3827-4922-9c33-2b5625192970",
   "metadata": {},
   "outputs": [
    {
     "data": {
      "text/plain": [
       "2.7613412228796843"
      ]
     },
     "execution_count": 34,
     "metadata": {},
     "output_type": "execute_result"
    }
   ],
   "source": [
    "hmean = statistics.harmonic_mean(x)\n",
    "hmean"
   ]
  },
  {
   "cell_type": "code",
   "execution_count": 35,
   "id": "42d64ef1-5cf4-4ee0-a858-908e4cbdae98",
   "metadata": {},
   "outputs": [
    {
     "data": {
      "text/plain": [
       "2.7613412228796843"
      ]
     },
     "execution_count": 35,
     "metadata": {},
     "output_type": "execute_result"
    }
   ],
   "source": [
    "scipy.stats.hmean(y)"
   ]
  },
  {
   "cell_type": "code",
   "execution_count": 36,
   "id": "363e26d1-5eac-4fd2-9de6-22b99b91c2e1",
   "metadata": {},
   "outputs": [
    {
     "data": {
      "text/plain": [
       "2.7613412228796843"
      ]
     },
     "execution_count": 36,
     "metadata": {},
     "output_type": "execute_result"
    }
   ],
   "source": [
    "scipy.stats.hmean(z)"
   ]
  },
  {
   "cell_type": "code",
   "execution_count": 41,
   "id": "9075cd84-7b97-409e-8ac3-26daf23a831d",
   "metadata": {},
   "outputs": [
    {
     "name": "stdout",
     "output_type": "stream",
     "text": [
      "2.5\n",
      "4\n"
     ]
    }
   ],
   "source": [
    "x = [8.0, 1, 2.5, 4, 28.0]\n",
    "\n",
    "k = stats.median_low(x[:-1])\n",
    "print(k)\n",
    "\n",
    "d= stats.median_high(x[:-1])\n",
    "print(d)"
   ]
  },
  {
   "cell_type": "code",
   "execution_count": null,
   "id": "53b99d66-64f2-40cf-ad08-9a79fce01715",
   "metadata": {},
   "outputs": [],
   "source": [
    "### Measures of Variability = pengukuran penyebaran data\n",
    "\n",
    "1. variance = ragam\n",
    "\n",
    "    stats.variance()\n",
    "\n",
    "2. Standard Deviasi\n",
    "\n",
    "    roots of variance\n",
    "    akar ragam\n",
    "    stats.stdev()\n",
    "\n",
    "3. Skewness\n",
    "\n",
    "    di suatu kelas ada 40 orang\n",
    "    \n",
    "    10 orang 165cm\n",
    "    12 orang 175cm\n",
    "    8 orang 185cm\n",
    "    10 orang 195cm\n",
    "\n",
    "4. Percentile dan range"
   ]
  },
  {
   "cell_type": "code",
   "execution_count": 44,
   "id": "1604a989-0e70-4f3b-bd7f-59b2203b2d6f",
   "metadata": {},
   "outputs": [
    {
     "data": {
      "text/plain": [
       "179.5"
      ]
     },
     "execution_count": 44,
     "metadata": {},
     "output_type": "execute_result"
    }
   ],
   "source": [
    "q = [10,12,8,10]\n",
    "x = [165, 175, 185, 195]\n",
    "\n",
    "(10*165 + 12*175 + 8*185 + 10*195)/40\n",
    "\n",
    "#18 orang diatas rata2 tinggi nya\n",
    "#22 orang dibawah rata2 tinggi nya\n",
    "\n",
    "\n",
    "#Skewness nya = + skew"
   ]
  },
  {
   "cell_type": "code",
   "execution_count": 49,
   "id": "1683384f-20ae-4dec-955f-af74ef37c327",
   "metadata": {},
   "outputs": [
    {
     "name": "stdout",
     "output_type": "stream",
     "text": [
      "0.12541698406575383\n"
     ]
    }
   ],
   "source": [
    "z = [165, 165, 165, 165, 165, 175, 175, 175, 175, 175, 175, 185, 185, 185, 185, 195, 195, 195, 195, 195]\n",
    "\n",
    "print(scipy.stats.skew(z))\n",
    "\n",
    "#kalau positif, berarti condong ke kiri"
   ]
  },
  {
   "cell_type": "code",
   "execution_count": 54,
   "id": "4c4b2c3c-713d-46a1-b888-9ccb8c0fafd3",
   "metadata": {},
   "outputs": [
    {
     "name": "stdout",
     "output_type": "stream",
     "text": [
      "-0.04468600287297379\n"
     ]
    }
   ],
   "source": [
    "z1 = [165, 165, 165, 165, 165, 175, 175, 175, 175, 175, 175, 185, 185, 185, 185, 195, 195, 195, 195, 195, 195, 195]\n",
    "\n",
    "print(scipy.stats.skew(z1))\n",
    "\n",
    "#kalau negatif, berarti condong ke kanan"
   ]
  },
  {
   "cell_type": "code",
   "execution_count": 56,
   "id": "edcae14f-fd8c-448e-88bd-4717837e4d40",
   "metadata": {},
   "outputs": [
    {
     "data": {
      "text/plain": [
       "DescribeResult(nobs=22, minmax=(165, 195), mean=180.9090909090909, variance=139.61038961038963, skewness=-0.04468600287297379, kurtosis=-1.452302145303768)"
      ]
     },
     "execution_count": 56,
     "metadata": {},
     "output_type": "execute_result"
    }
   ],
   "source": [
    "#z.describe()\n",
    "\n",
    "scipy.stats.describe(z)"
   ]
  },
  {
   "cell_type": "code",
   "execution_count": null,
   "id": "d539bb11-4738-4eca-a822-c9cdb85b82ce",
   "metadata": {},
   "outputs": [],
   "source": []
  }
 ],
 "metadata": {
  "kernelspec": {
   "display_name": "Python 3",
   "language": "python",
   "name": "python3"
  },
  "language_info": {
   "codemirror_mode": {
    "name": "ipython",
    "version": 3
   },
   "file_extension": ".py",
   "mimetype": "text/x-python",
   "name": "python",
   "nbconvert_exporter": "python",
   "pygments_lexer": "ipython3",
   "version": "3.8.8"
  }
 },
 "nbformat": 4,
 "nbformat_minor": 5
}
